{
 "cells": [
  {
   "cell_type": "markdown",
   "metadata": {},
   "source": [
    "# 实验四：朴素贝叶斯分类器\n",
    "- 姓名：冯思程\n",
    "- 学号：2112213\n",
    "- 专业：计算机科学与技术"
   ]
  },
  {
   "cell_type": "markdown",
   "metadata": {},
   "source": [
    "## 实验要求\n",
    "### 截止日期：11月17日\n",
    "以学号+姓名(4)的命名形式打包实验代码+实验报告，发送到邮箱2120230658@mail.nankai.edu.cn\n",
    "\n",
    "### 数据集\n",
    "\n",
    "Most Popular Data Set中的wine数据集（对意大利同一地区声场的三种不同品种的酒做大量分析所得出的数据）\n",
    "\n",
    "### 基本要求：\n",
    "\n",
    "采用分层采样的方式将数据集划分为训练集和测试集。 \n",
    "给定编写一个朴素贝叶斯分类器，对测试集进行预测，计算分类准确率。\n",
    "### 中级要求：\n",
    "\n",
    "使用测试集评估模型，得到混淆矩阵，精度，召回率，F值。\n",
    "### 高级要求：\n",
    "\n",
    "在中级要求的基础上画出三类数据的ROC曲线，并求出AUC值。\n",
    "### 拓展要求：\n",
    "\n",
    "浅谈ROC曲线和AUC值作为分类评价的合理性。\n"
   ]
  },
  {
   "cell_type": "markdown",
   "metadata": {},
   "source": [
    "=======================================================================================================================\n",
    "\n",
    "# 开始\n",
    "\n",
    "**环境**：python 3.10.9+vscode 1.82.2+一些必备的第三方库，例如numpy等。\n",
    "\n",
    "<span style=\"color:red\">**注意**</span>：我在后文的代码都补充了适当的注释并在代码前进行了适当注释和分析，感谢学长学姐的批阅！辛苦！"
   ]
  },
  {
   "cell_type": "markdown",
   "metadata": {},
   "source": [
    "## 基础要求部分"
   ]
  },
  {
   "cell_type": "markdown",
   "metadata": {},
   "source": [
    "观察发现这里的特征属性都是连续的，所以我假设其分布为高斯分布进行计算。具体计算公式如下：（这里我使用对数进行计算，让计算更加稳定。）\n",
    "\n",
    "给定:\n",
    "- \\( X \\) 为待分类样本的特征向量。\n",
    "- $ \\mu_k $ 为类别 \\( k \\) 的均值向量。\n",
    "- $ \\sigma_k^2 $ 为类别 \\( k \\) 的方差向量。\n",
    "- \\( n_k \\) 为类别 \\( k \\) 中的样本数量。\n",
    "- \\( N \\) 为所有类别中的总样本数量。\n",
    "- \\( K \\) 为类别的总数。\n",
    "\n",
    "对于每个类别 \\( k \\)，进行以下计算：\n",
    "\n",
    "1. **先验概率的对数 (Log Prior):**\n",
    "   $$\n",
    "   \\text{类别 } k \\text{ 的先验概率的对数} = \\log\\left(\\frac{n_k}{N}\\right)\n",
    "   $$\n",
    "\n",
    "2. **似然概率的对数 (Log Likelihood):**\n",
    "   $$\n",
    "   \\text{类别 } k \\text{ 的似然概率的对数} = -\\frac{1}{2} \\sum\\left(\\log(2\\pi\\sigma_k^2) + \\frac{(X - \\mu_k)^2}{\\sigma_k^2}\\right)\n",
    "   $$\n",
    "\n",
    "3. **后验概率的对数 (Log Posterior):**\n",
    "   $$\n",
    "   \\text{类别 } k \\text{ 的后验概率的对数} = \\text{类别 } k \\text{ 的似然概率的对数} + \\text{类别 } k \\text{ 的先验概率的对数}\n",
    "   $$\n",
    "\n",
    " 在计算了每个类别的后验概率的对数之后，样本 \\( X \\) 的预测类别是后验概率的对数值最大的类别。\n",
    "\n",
    "4. **预测:**\n",
    "   $$\n",
    "   \\text{预测类别} = \\arg\\max_k(\\text{类别 } k \\text{ 的后验概率的对数})\n",
    "   $$\n",
    "\n",
    "每次预测类别与样本的实际类别不匹配时，错误预测的数量会增加。\n",
    "\n"
   ]
  },
  {
   "cell_type": "markdown",
   "metadata": {},
   "source": [
    "### 导入需要的包"
   ]
  },
  {
   "cell_type": "code",
   "execution_count": 66,
   "metadata": {},
   "outputs": [],
   "source": [
    "import numpy as np\n",
    "import pandas as pd\n",
    "import math\n",
    "import matplotlib.pyplot as plt\n",
    "import seaborn as sns"
   ]
  },
  {
   "cell_type": "markdown",
   "metadata": {},
   "source": [
    "### 数据读取"
   ]
  },
  {
   "cell_type": "code",
   "execution_count": 67,
   "metadata": {},
   "outputs": [
    {
     "name": "stdout",
     "output_type": "stream",
     "text": [
      "     Class  Alcohol  Malic acid   Ash  Alcalinity of ash  Magnesium  \\\n",
      "0        1    14.23        1.71  2.43               15.6        127   \n",
      "1        1    13.20        1.78  2.14               11.2        100   \n",
      "2        1    13.16        2.36  2.67               18.6        101   \n",
      "3        1    14.37        1.95  2.50               16.8        113   \n",
      "4        1    13.24        2.59  2.87               21.0        118   \n",
      "..     ...      ...         ...   ...                ...        ...   \n",
      "173      3    13.71        5.65  2.45               20.5         95   \n",
      "174      3    13.40        3.91  2.48               23.0        102   \n",
      "175      3    13.27        4.28  2.26               20.0        120   \n",
      "176      3    13.17        2.59  2.37               20.0        120   \n",
      "177      3    14.13        4.10  2.74               24.5         96   \n",
      "\n",
      "     Total phenols  Flavanoids  Nonflavanoid phenols  Proanthocyanins  \\\n",
      "0             2.80        3.06                  0.28             2.29   \n",
      "1             2.65        2.76                  0.26             1.28   \n",
      "2             2.80        3.24                  0.30             2.81   \n",
      "3             3.85        3.49                  0.24             2.18   \n",
      "4             2.80        2.69                  0.39             1.82   \n",
      "..             ...         ...                   ...              ...   \n",
      "173           1.68        0.61                  0.52             1.06   \n",
      "174           1.80        0.75                  0.43             1.41   \n",
      "175           1.59        0.69                  0.43             1.35   \n",
      "176           1.65        0.68                  0.53             1.46   \n",
      "177           2.05        0.76                  0.56             1.35   \n",
      "\n",
      "     Color intensity   Hue  OD280/OD315 of diluted wines  Proline  \n",
      "0               5.64  1.04                          3.92     1065  \n",
      "1               4.38  1.05                          3.40     1050  \n",
      "2               5.68  1.03                          3.17     1185  \n",
      "3               7.80  0.86                          3.45     1480  \n",
      "4               4.32  1.04                          2.93      735  \n",
      "..               ...   ...                           ...      ...  \n",
      "173             7.70  0.64                          1.74      740  \n",
      "174             7.30  0.70                          1.56      750  \n",
      "175            10.20  0.59                          1.56      835  \n",
      "176             9.30  0.60                          1.62      840  \n",
      "177             9.20  0.61                          1.60      560  \n",
      "\n",
      "[178 rows x 14 columns]\n"
     ]
    }
   ],
   "source": [
    "# 定义特征列名\n",
    "column_names = [\n",
    "    'Class', 'Alcohol', 'Malic acid', 'Ash', 'Alcalinity of ash', 'Magnesium',\n",
    "    'Total phenols', 'Flavanoids', 'Nonflavanoid phenols', 'Proanthocyanins',\n",
    "    'Color intensity', 'Hue', 'OD280/OD315 of diluted wines', 'Proline'\n",
    "]\n",
    "\n",
    "# 读取数据，第一列是类别，后13列是特征列\n",
    "df = pd.read_csv('./wine.data', header=None, names=column_names)\n",
    "print(df)"
   ]
  },
  {
   "cell_type": "markdown",
   "metadata": {},
   "source": [
    "### 构建贝叶斯分类器并进行预测"
   ]
  },
  {
   "cell_type": "code",
   "execution_count": 68,
   "metadata": {},
   "outputs": [],
   "source": [
    "# 实现贝叶斯分类器\n",
    "# train_data和test_data应该是字典格式，其中键是类别标签，值是对应的数据样本。\n",
    "# 数据样本被存储为NumPy数组。\n",
    "def bayes_classify(train_data, test_data):\n",
    "    means = {}\n",
    "    std = {}\n",
    "    wrong_num = 0\n",
    "    predictions = []\n",
    "\n",
    "    score=[]\n",
    "    # 对每个类别计算均值和标准差，跳过第一列\n",
    "    for cls in train_data:\n",
    "        cls_data = np.array(train_data[cls])[:, 1:]\n",
    "        means[cls] = np.mean(cls_data, axis=0)\n",
    "        std[cls] = np.std(cls_data, ddof=1, axis=0)\n",
    "\n",
    "    # 分类测试数据\n",
    "    for cls in test_data:\n",
    "        for sample in test_data[cls]:\n",
    "            # 跳过第一列\n",
    "            sample_features = sample[1:] \n",
    "\n",
    "            log_likelihoods = []\n",
    "            for cls_train in train_data:\n",
    "                # 计算每个测试样本不同类别的后验概率的对数\n",
    "                log_likelihood = -0.5 * np.sum(np.log(2 * math.pi * std[cls_train] ** 2))\n",
    "                log_likelihood -= 0.5 * np.sum(((sample_features - means[cls_train]) ** 2) / (std[cls_train] ** 2))\n",
    "                prior = math.log(len(train_data[cls_train]) / sum(len(samples) for samples in train_data.values()))\n",
    "                log_likelihoods.append(log_likelihood + prior)\n",
    "            # 将每个测试样本的三类得分都存起来后面需要用\n",
    "            score.append(log_likelihoods)\n",
    "            # 预测类别\n",
    "            predicted_cls = np.argmax(log_likelihoods)+1\n",
    "            predictions.append(predicted_cls)\n",
    "\n",
    "            # 如果预测错误，增加错误数\n",
    "            if predicted_cls != cls:\n",
    "                wrong_num += 1\n",
    "    return wrong_num, predictions,score\n"
   ]
  },
  {
   "cell_type": "markdown",
   "metadata": {},
   "source": [
    "采用十折交叉验证+分层抽样来进行验证分类器效果。"
   ]
  },
  {
   "cell_type": "code",
   "execution_count": 69,
   "metadata": {},
   "outputs": [
    {
     "name": "stdout",
     "output_type": "stream",
     "text": [
      "Fold 1: Accuracy = 0.9444\n",
      "Fold 2: Accuracy = 1.0000\n",
      "Fold 3: Accuracy = 1.0000\n",
      "Fold 4: Accuracy = 0.9444\n",
      "Fold 5: Accuracy = 0.9444\n",
      "Fold 6: Accuracy = 1.0000\n",
      "Fold 7: Accuracy = 1.0000\n",
      "Fold 8: Accuracy = 0.9444\n",
      "Fold 9: Accuracy = 1.0000\n",
      "Fold 10: Accuracy = 1.0000\n",
      "平均准确率： 0.9778\n"
     ]
    }
   ],
   "source": [
    "# 按照类别划分数据集，这里转化成了字典，方便后续调用\n",
    "class_groups = df.groupby('Class')\n",
    "stratified_data = {cls: data.values for cls, data in class_groups}\n",
    "\n",
    "accuracies = []\n",
    "\n",
    "totalpre=[]\n",
    "totalright=[]\n",
    "totalscore=[]\n",
    "for i in range(10):\n",
    "    train_data = {cls: [] for cls in stratified_data}\n",
    "    test_data = {cls: [] for cls in stratified_data}\n",
    "    y_test = []\n",
    "\n",
    "    # 分层划分数据集\n",
    "    for cls, group in stratified_data.items():\n",
    "        group_length = len(group)\n",
    "        test_len = round(group_length / 10)# 我让其四舍五入，可以更均衡地划分数据集\n",
    "        test_start = i * test_len\n",
    "        test_end = (i + 1) * test_len if i != 10 - 1 else group_length\n",
    "        test_data[cls] = group[test_start:test_end]\n",
    "        train_data[cls] = np.concatenate((group[:test_start], group[test_end:]), axis=0)\n",
    "        y_test.extend([cls] * len(test_data[cls]))\n",
    "    # 数据带入朴素贝叶斯分类器\n",
    "    wrong_num, predictions ,score= bayes_classify(train_data, test_data)\n",
    "    totalpre.append(predictions)\n",
    "    totalright.append(y_test)\n",
    "    # 存得分列表，在高级要求中需要用到\n",
    "    totalscore.append(score)\n",
    "    # 计算此轮准确率\n",
    "    testsize=len(test_data[1])+len(test_data[2])+len(test_data[3])\n",
    "    fold_accuracy = (testsize - wrong_num) / testsize\n",
    "    accuracies.append(fold_accuracy)\n",
    "    print(f\"Fold {i + 1}: Accuracy = {fold_accuracy:.4f}\")\n",
    "\n",
    "# 输出平均准确率\n",
    "average_accuracy = sum(accuracies) / 10\n",
    "print(f\"平均准确率： {average_accuracy:.4f}\")"
   ]
  },
  {
   "cell_type": "markdown",
   "metadata": {},
   "source": [
    "## 中级要求部分\n",
    "\n",
    "使用测试集评估模型，得到混淆矩阵，精度，召回率，F值。\n",
    "\n",
    "上文我已经把正确的类别标签存在了totalright中，而且把每折的预测结果存在了totalpre中，下面就可以利用这两个进行计算。\n",
    "\n",
    "![计算公式](https://i.imgur.com/FjGLJwc.png)\n",
    "\n"
   ]
  },
  {
   "cell_type": "code",
   "execution_count": 70,
   "metadata": {},
   "outputs": [
    {
     "data": {
      "image/png": "[encoded data removed]",
      "text/plain": [
       "<Figure size 1000x700 with 2 Axes>"
      ]
     },
     "metadata": {},
     "output_type": "display_data"
    },
    {
     "name": "stdout",
     "output_type": "stream",
     "text": [
      "class     precision recall    f1-score  support   \n",
      "1         1.0000    0.9661    0.9828    59        \n",
      "2         0.9718    0.9718    0.9718    71        \n",
      "3         0.9600    1.0000    0.9796    48        \n",
      "macro avg 0.9773    0.9793    0.9783    178       \n",
      "总体准确率     0.9775    \n"
     ]
    }
   ],
   "source": [
    "def calculate(true_labels, predicted_labels):\n",
    "    flat_true = [label for sublist in true_labels for label in sublist]\n",
    "    flat_predicted = [label for sublist in predicted_labels for label in sublist]\n",
    "    \n",
    "    num_classes = len(sorted(set(flat_true)))\n",
    "    confusion_matrix = [[0 for _ in range(num_classes)] for _ in range(num_classes)]\n",
    "    \n",
    "    # 这里直接利用预测标签和真实标签直接填充混淆矩阵\n",
    "    for t, p in zip(flat_true, flat_predicted):\n",
    "        confusion_matrix[t - 1][p - 1] += 1\n",
    "    # 后续直接利用混淆矩阵来计算各种指标\n",
    "    precision = []\n",
    "    recall = []\n",
    "    # 计算精度和召回率\n",
    "    for i in range(num_classes):\n",
    "        TP = confusion_matrix[i][i]\n",
    "        FP = sum(confusion_matrix[j][i] for j in range(num_classes) if j != i)\n",
    "        FN = sum(confusion_matrix[i][j] for j in range(num_classes) if j != i)\n",
    "        \n",
    "        prec = TP / (TP + FP) if (TP + FP) > 0 else 0\n",
    "        rec = TP / (TP + FN) if (TP + FN) > 0 else 0\n",
    "\n",
    "        precision.append(prec)\n",
    "        recall.append(rec)\n",
    "    \n",
    "    # 计算F1分数\n",
    "    f1_scores = [2 * p * r / (p + r) if (p + r) > 0 else 0 for p, r in zip(precision, recall)]\n",
    "    \n",
    "    # 计算总体准确率\n",
    "    overall_accuracy = sum(confusion_matrix[i][i] for i in range(num_classes)) / len(flat_true)\n",
    "    # 计算各类个数\n",
    "    support = [flat_true.count(i) for i in range(1, num_classes+1)]\n",
    "    return {\n",
    "        'confusion_matrix': confusion_matrix,\n",
    "        'precision': precision,\n",
    "        'recall': recall,\n",
    "        'f1_scores': f1_scores,\n",
    "        'overall_accuracy': overall_accuracy,\n",
    "        'support':support\n",
    "    }# 返回一个字典\n",
    "\n",
    "\n",
    "result = calculate(totalright, totalpre)\n",
    "# 画出混淆矩阵\n",
    "plt.figure(figsize=(10, 7))\n",
    "sns.heatmap(result['confusion_matrix'], annot=True, fmt='g', cmap='Blues')\n",
    "plt.xlabel('Predicted')\n",
    "plt.ylabel('True')\n",
    "plt.show()\n",
    "\n",
    "# 打印结果\n",
    "print(f\"{'class':<10}{'precision':<10}{'recall':<10}{'f1-score':<10}{'support':<10}\")\n",
    "for i, (prec, rec, f1, supp) in enumerate(zip(result['precision'], result['recall'], result['f1_scores'], result['support']), 1):\n",
    "    print(f\"{i:<10}{prec:<10.4f}{rec:<10.4f}{f1:<10.4f}{supp:<10}\")\n",
    "\n",
    "# 计算平均值\n",
    "macro_precision = sum(result['precision']) / df.iloc[:, 0].nunique()\n",
    "macro_recall = sum(result['recall']) / df.iloc[:, 0].nunique()\n",
    "macro_f1 = 2 * macro_precision * macro_recall / (macro_precision+macro_recall)\n",
    "total_support = sum(result['support'])\n",
    "\n",
    "print(f\"{'macro avg':<10}{macro_precision:<10.4f}{macro_recall:<10.4f}{macro_f1:<10.4f}{total_support:<10}\")\n",
    "print(f\"{'总体准确率':<10}{result['overall_accuracy']:<10.4f}\")"
   ]
  },
  {
   "cell_type": "markdown",
   "metadata": {},
   "source": [
    "## 高级要求部分\n",
    "\n"
   ]
  },
  {
   "cell_type": "code",
   "execution_count": 71,
   "metadata": {},
   "outputs": [],
   "source": [
    "# 这里是用简单的梯形原理进行计算auc值，也就是计算曲线的面积\n",
    "def calculate_auc(fprs, tprs):\n",
    "    sorted_points = sorted(zip(fprs, tprs))\n",
    "    sorted_fprs, sorted_tprs = zip(*sorted_points)\n",
    "    auc = 0.0\n",
    "    for i in range(1, len(sorted_fprs)):\n",
    "        auc += (sorted_fprs[i] - sorted_fprs[i-1]) * (sorted_tprs[i] + sorted_tprs[i-1]) / 2\n",
    "    return abs(auc)\n",
    "\n",
    "def calculate_and_plot_roc(true_labels, predicted_scores, num_classes):\n",
    "    curve_points = {}\n",
    "    aucs = {}\n",
    "    # 对于每个类别，计算ROC曲线\n",
    "    for c in range(num_classes):\n",
    "        thresholds = [tup[c] for tup in predicted_scores]# 阈值的选取对于每个类的计算是取对应的类别的得分作为阈值。\n",
    "        tprs = []\n",
    "        fprs = []\n",
    "        for threshold in thresholds:\n",
    "            TP = FP = FN = TN = 0\n",
    "            for i, score in enumerate(predicted_scores):\n",
    "                # 真实标签为当前类别\n",
    "                if true_labels[i] == c+1:\n",
    "                    if score[c] >= threshold:\n",
    "                        TP += 1\n",
    "                    else:\n",
    "                        FN += 1\n",
    "                # 真实标签不是当前类别\n",
    "                else:\n",
    "                    if score[c] >= threshold:\n",
    "                        FP += 1\n",
    "                    else:\n",
    "                        TN += 1\n",
    "            tpr = TP / (TP + FN) if (TP + FN) else 0\n",
    "            fpr = FP / (FP + TN) if (FP + TN) else 0\n",
    "            tprs.append(tpr)\n",
    "            fprs.append(fpr)\n",
    "        curve_points[c] = (fprs, tprs)\n",
    "        #print(fprs)\n",
    "        #print(tprs)\n",
    "        aucs[c] = calculate_auc(fprs, tprs)\n",
    "\n",
    "\n",
    "    # 绘制ROC曲线，auc已经写在对应曲线的图标上\n",
    "    plt.figure(figsize=(8, 6))\n",
    "    for c, (fprs, tprs) in curve_points.items():\n",
    "        plt.plot(sorted(fprs), sorted(tprs), label=f'Class {c} (AUC = {aucs[c]:.2f})')\n",
    "        plt.xlabel('False Positive Rate')\n",
    "        plt.ylabel('True Positive Rate')\n",
    "        plt.title('ROC Curve')\n",
    "    plt.plot([0, 1], [0, 1], 'k--')  # 画出随机性能线作为参考，黑色虚线\n",
    "    plt.legend(loc='lower right')\n",
    "    plt.show()\n",
    "\n",
    "    "
   ]
  },
  {
   "cell_type": "code",
   "execution_count": 72,
   "metadata": {},
   "outputs": [
    {
     "data": {
      "image/png": "[encoded data removed]",
      "text/plain": [
       "<Figure size 800x600 with 1 Axes>"
      ]
     },
     "metadata": {},
     "output_type": "display_data"
    }
   ],
   "source": [
    "scoreuse = [element for sublist in totalscore for element in sublist]\n",
    "rightuse = [label for sublist in totalright for label in sublist]\n",
    "\n",
    "calculate_and_plot_roc(rightuse,scoreuse,df.iloc[:, 0].nunique())\n",
    "\n",
    "\n"
   ]
  },
  {
   "cell_type": "markdown",
   "metadata": {},
   "source": [
    "## 扩展要求"
   ]
  },
  {
   "cell_type": "markdown",
   "metadata": {},
   "source": [
    "浅谈ROC曲线和AUC值作为分类评价的合理性。\n",
    "\n",
    "**答**：\n",
    "- 简介：ROC曲线（Receiver Operating Characteristic curve）和AUC值（Area Under the ROC Curve）是评估分类模型性能的重要工具，它们在多类分类问题中也可以通过一对一或一对多的策略被应用（如本次的三分类问题）。\n",
    "- ROC曲线的合理性：\n",
    "性能全面性：ROC曲线提供了在不同阈值设置下模型性能的全面图景，它展示了随着分类阈值的变化，真正类率（TPR）和假正类率（FPR）之间的关系；**阈值不依赖**：ROC曲线的一个关键优点是它不依赖于类别分布或决策阈值，使其在类分布不平衡时仍然有效；易于比较：不同模型的ROC曲线可以在同一图表中绘制和比较。模型的曲线越接近左上角，性能越好。（如上图，三条线都是接近左上角的。）\n",
    "- AUC值的合理性：\n",
    "量化性能：AUC值为ROC曲线下的面积，提供了一个量化的性能指标。AUC值为1表示完美的分类器，而0.5表示无效的分类器（相当于随机猜测，参考上图中的黑色虚线）；平衡性：AUC值考虑了分类器对于正类和负类的分类能力，因此它是一个平衡的指标，既考虑了召回率也考虑了假正率；比较简便：AUC为单一数值，非常适合于比较不同模型的性能或进行模型选择。"
   ]
  }
 ],
 "metadata": {
  "kernelspec": {
   "display_name": "base",
   "language": "python",
   "name": "python3"
  },
  "language_info": {
   "codemirror_mode": {
    "name": "ipython",
    "version": 3
   },
   "file_extension": ".py",
   "mimetype": "text/x-python",
   "name": "python",
   "nbconvert_exporter": "python",
   "pygments_lexer": "ipython3",
   "version": "3.10.9"
  }
 },
 "nbformat": 4,
 "nbformat_minor": 2
}
